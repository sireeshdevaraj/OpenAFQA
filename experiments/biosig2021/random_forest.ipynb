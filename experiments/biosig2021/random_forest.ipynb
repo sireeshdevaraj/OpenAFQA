{
 "cells": [
  {
   "cell_type": "markdown",
   "id": "c417b223",
   "metadata": {},
   "source": [
    "# Experiments"
   ]
  },
  {
   "cell_type": "code",
   "execution_count": 6,
   "id": "2009d434",
   "metadata": {},
   "outputs": [],
   "source": [
    "# IMPORT CODE \n",
    "import os \n",
    "import cv2\n",
    "import numpy as np\n",
    "import pickle\n",
    "from sklearn.ensemble import RandomForestRegressor\n",
    "from sklearn.metrics import *\n",
    "from sklearn.model_selection import RandomizedSearchCV\n",
    "from IPython import display\n",
    "from PIL import Image\n",
    "\n",
    "\n",
    "def cv2_imshow(a):\n",
    "  \"\"\"A replacement for cv2.imshow() for use in Jupyter notebooks.\n",
    "  Args:\n",
    "    a : np.ndarray. shape (N, M) or (N, M, 1) is an NxM grayscale image. shape\n",
    "      (N, M, 3) is an NxM BGR color image. shape (N, M, 4) is an NxM BGRA color\n",
    "      image.\n",
    "  \"\"\"\n",
    "  a = a.clip(0, 255).astype('uint8')\n",
    "  # cv2 stores colors as BGR; convert to RGB\n",
    "  if a.ndim == 3:\n",
    "    if a.shape[2] == 4:\n",
    "      a = cv2.cvtColor(a, cv2.COLOR_BGRA2RGBA)\n",
    "    else:\n",
    "      a = cv2.cvtColor(a, cv2.COLOR_BGR2RGB)\n",
    "  display.display(Image.fromarray(a))\n",
    "\n",
    "def load_data(location, labels, metric):\n",
    "    fv_list = os.listdir(location)\n",
    "    fv_nb = len(fv_list)\n",
    "\n",
    "    with open(location + fv_list[0], \"rb\") as handle: \n",
    "        fv0 = pickle.load(handle)\n",
    "\n",
    "    with open(labels, \"rb\") as handle: \n",
    "        labels = pickle.load(handle)\n",
    "\n",
    "    print(\"Number of vectors: \" + str(fv_nb) + \" of length \" + str(len(fv0)))\n",
    "\n",
    "    data_x = np.zeros(shape=(fv_nb, len(fv0)))\n",
    "    data_y = np.zeros(shape=(fv_nb,))\n",
    "\n",
    "    for i, fv_filename in enumerate(fv_list): \n",
    "        with open(location + fv_filename, \"rb\") as handle: \n",
    "            fv = pickle.load(handle)\n",
    "        \n",
    "        fid = fv_filename.split(\".\")[0]\n",
    "\n",
    "        data_y[i] = 0\n",
    "        if metric in labels[fid]: \n",
    "            data_y[i] = labels[fid][metric] \n",
    "\n",
    "        data_x[i] = fv\n",
    "\n",
    "    return data_x, data_y, fv_list\n"
   ]
  },
  {
   "cell_type": "code",
   "execution_count": 9,
   "id": "2ae02e01",
   "metadata": {},
   "outputs": [
    {
     "name": "stdout",
     "output_type": "stream",
     "text": [
      "Number of vectors: 12000 of length 192\n",
      "Number of vectors: 1200 of length 192\n"
     ]
    }
   ],
   "source": [
    "DATA_FOLDER = \"D:\\\\NIST datasets\\\\feature_vector_dataset\\\\\"\n",
    "\n",
    "LABELS = DATA_FOLDER + \"qualities_v2.pkl\"\n",
    "metric = \"lqm\"\n",
    "\n",
    "train_x, train_y, train_names = load_data(DATA_FOLDER + \"train/\", LABELS, metric)\n",
    "test_x, test_y, test_names = load_data(DATA_FOLDER + \"test/\", LABELS, metric)"
   ]
  },
  {
   "cell_type": "code",
   "execution_count": 4,
   "id": "d619518a",
   "metadata": {
    "scrolled": true
   },
   "outputs": [
    {
     "name": "stdout",
     "output_type": "stream",
     "text": [
      "{'n_estimators': [50, 150, 250, 350, 450, 550, 650, 750, 850, 950, 1050], 'max_features': ['auto'], 'max_depth': [10, 20, 30, 40, 50, 60, 70, 80, 90, 100, 110, 120, 130, 140, 150, None], 'min_samples_split': [2], 'min_samples_leaf': [1], 'bootstrap': [True], 'verbose': [True], 'n_jobs': [2]}\n",
      "Fitting 3 folds for each of 100 candidates, totalling 300 fits\n"
     ]
    },
    {
     "name": "stderr",
     "output_type": "stream",
     "text": [
      "[Parallel(n_jobs=2)]: Using backend ThreadingBackend with 2 concurrent workers.\n",
      "[Parallel(n_jobs=2)]: Done  46 tasks      | elapsed:   11.5s\n",
      "[Parallel(n_jobs=2)]: Done 196 tasks      | elapsed:   48.7s\n",
      "[Parallel(n_jobs=2)]: Done 446 tasks      | elapsed:  1.8min\n",
      "[Parallel(n_jobs=2)]: Done 796 tasks      | elapsed:  3.3min\n"
     ]
    },
    {
     "name": "stdout",
     "output_type": "stream",
     "text": [
      "{'verbose': True, 'n_jobs': 2, 'n_estimators': 1050, 'min_samples_split': 2, 'min_samples_leaf': 1, 'max_features': 'auto', 'max_depth': 140, 'bootstrap': True}\n"
     ]
    },
    {
     "name": "stderr",
     "output_type": "stream",
     "text": [
      "[Parallel(n_jobs=2)]: Done 1050 out of 1050 | elapsed:  4.3min finished\n"
     ]
    }
   ],
   "source": [
    "\n",
    "n_estimators = [int(x) for x in np.linspace(start=50, stop=1050, num = 11)]\n",
    "# Number of features to consider at every split\n",
    "max_features = ['auto']\n",
    "# Maximum number of levels in tree\n",
    "max_depth = [int(x) for x in np.linspace(10, 150, num = 15)]\n",
    "max_depth.append(None)\n",
    "# Minimum number of samples required to split a node\n",
    "min_samples_split = [2]#, 5, 10]\n",
    "# Minimum number of samples required at each leaf node\n",
    "min_samples_leaf = [1]#, 2, 4]\n",
    "# Method of selecting samples for training each tree\n",
    "bootstrap = [True ]#, False]# Create the random grid\n",
    "random_grid = {'n_estimators': n_estimators,\n",
    "               'max_features': max_features,\n",
    "               'max_depth': max_depth,\n",
    "               'min_samples_split': min_samples_split,\n",
    "               'min_samples_leaf': min_samples_leaf,\n",
    "               'bootstrap': bootstrap,\n",
    "               'verbose': [True],\n",
    "               'n_jobs': [2]}\n",
    "\n",
    "print(random_grid)\n",
    "\n",
    "# Use the random grid to search for best hyperparameters\n",
    "# First create the base model to tune\n",
    "rf = RandomForestRegressor()\n",
    "# Random search of parameters, using 3 fold cross validation, \n",
    "# search across 100 different combinations, and use all available cores\n",
    "rf_random = RandomizedSearchCV(estimator=rf, param_distributions=random_grid, n_iter=100, cv=3, verbose=5, random_state=42, n_jobs = -1)# Fit the random search model\n",
    "rf_random.fit(train_x, train_y)\n",
    "\n",
    "print(rf_random.best_params_)\n"
   ]
  },
  {
   "cell_type": "code",
   "execution_count": 10,
   "id": "7ebb824a",
   "metadata": {
    "scrolled": false
   },
   "outputs": [
    {
     "name": "stderr",
     "output_type": "stream",
     "text": [
      "[Parallel(n_jobs=8)]: Using backend ThreadingBackend with 8 concurrent workers.\n",
      "[Parallel(n_jobs=8)]: Done  34 tasks      | elapsed:    3.8s\n",
      "[Parallel(n_jobs=8)]: Done 184 tasks      | elapsed:   19.0s\n",
      "[Parallel(n_jobs=8)]: Done 434 tasks      | elapsed:   44.3s\n",
      "[Parallel(n_jobs=8)]: Done 750 out of 750 | elapsed:  1.3min finished\n",
      "[Parallel(n_jobs=8)]: Using backend ThreadingBackend with 8 concurrent workers.\n",
      "[Parallel(n_jobs=8)]: Done  34 tasks      | elapsed:    0.0s\n",
      "[Parallel(n_jobs=8)]: Done 184 tasks      | elapsed:    0.0s\n",
      "[Parallel(n_jobs=8)]: Done 434 tasks      | elapsed:    0.1s\n",
      "[Parallel(n_jobs=8)]: Done 750 out of 750 | elapsed:    0.2s finished\n",
      "[Parallel(n_jobs=8)]: Using backend ThreadingBackend with 8 concurrent workers.\n",
      "[Parallel(n_jobs=8)]: Done  34 tasks      | elapsed:    0.0s\n",
      "[Parallel(n_jobs=8)]: Done 184 tasks      | elapsed:    0.0s\n",
      "[Parallel(n_jobs=8)]: Done 434 tasks      | elapsed:    0.0s\n",
      "[Parallel(n_jobs=8)]: Done 750 out of 750 | elapsed:    0.0s finished\n"
     ]
    },
    {
     "name": "stdout",
     "output_type": "stream",
     "text": [
      "train MSE 13.782119585925926\n",
      "test MSE 181.76113516296294\n",
      "train MAE 2.366202111111111\n",
      "test MAE 9.68543\n",
      "train R2 0.9894983579184549\n",
      "test R2 0.7219772113601342\n"
     ]
    }
   ],
   "source": [
    "\n",
    "regr = RandomForestRegressor(n_estimators=750, max_depth=150, min_samples_split=2, min_samples_leaf=1, random_state=0, verbose=True, n_jobs=8)\n",
    "\n",
    "regr.fit(train_x, train_y)\n",
    "\n",
    "train_predictions = np.clip(regr.predict(train_x), 0, 100)\n",
    "predictions = np.clip(regr.predict(test_x), 0, 100)\n",
    "\n",
    "print(\"train MSE\", mean_squared_error(train_y, train_predictions))\n",
    "print(\"test MSE\", mean_squared_error(test_y, predictions))\n",
    "\n",
    "print(\"train MAE\", mean_absolute_error(train_y, train_predictions))\n",
    "print(\"test MAE\", mean_absolute_error(test_y, predictions))\n",
    "\n",
    "print(\"train R2\", r2_score(train_y, train_predictions))\n",
    "print(\"test R2\", r2_score(test_y, predictions))\n",
    "\n",
    "\n",
    "import pickle\n",
    "with open(\"rf_model_lqm.pkl\", \"wb\") as handle: \n",
    "    pickle.dump(regr, handle)"
   ]
  }
 ],
 "metadata": {
  "anaconda-cloud": {},
  "kernelspec": {
   "display_name": "Python [conda env:qa] *",
   "language": "python",
   "name": "conda-env-qa-py"
  },
  "language_info": {
   "codemirror_mode": {
    "name": "ipython",
    "version": 3
   },
   "file_extension": ".py",
   "mimetype": "text/x-python",
   "name": "python",
   "nbconvert_exporter": "python",
   "pygments_lexer": "ipython3",
   "version": "3.8.10"
  }
 },
 "nbformat": 4,
 "nbformat_minor": 5
}